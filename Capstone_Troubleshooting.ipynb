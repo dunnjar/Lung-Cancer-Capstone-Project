{
 "cells": [
  {
   "cell_type": "code",
   "execution_count": 2,
   "id": "ed2f8d55-9213-4ec0-9a3d-ab80bc48d48a",
   "metadata": {},
   "outputs": [
    {
     "name": "stderr",
     "output_type": "stream",
     "text": [
      "C:\\Users\\mja04\\AppData\\Local\\Temp\\ipykernel_25128\\2847474841.py:1: DeprecationWarning: \n",
      "Pyarrow will become a required dependency of pandas in the next major release of pandas (pandas 3.0),\n",
      "(to allow more performant data types, such as the Arrow string type, and better interoperability with other libraries)\n",
      "but was not found to be installed on your system.\n",
      "If this would cause problems for you,\n",
      "please provide us feedback at https://github.com/pandas-dev/pandas/issues/54466\n",
      "        \n",
      "  import pandas as pd\n"
     ]
    }
   ],
   "source": [
    "import pandas as pd\n",
    "import numpy as np\n",
    "from sklearn.model_selection import train_test_split\n",
    "from sklearn.preprocessing import StandardScaler\n",
    "from sklearn.tree import DecisionTreeClassifier, DecisionTreeRegressor\n",
    "from sklearn.ensemble import RandomForestClassifier, GradientBoostingClassifier, BaggingClassifier, VotingClassifier\n",
    "from sklearn.neighbors import KNeighborsClassifier\n",
    "from sklearn.linear_model import LogisticRegression \n",
    "from sklearn.feature_selection import RFE\n",
    "from sklearn.svm import SVC\n",
    "from sklearn.metrics import accuracy_score, classification_report, mean_squared_error\n",
    "from sklearn.tree import plot_tree\n",
    "import matplotlib.pyplot as plt"
   ]
  },
  {
   "cell_type": "code",
   "execution_count": 3,
   "id": "decd2e97-41ed-45c3-b98e-9431c50a3110",
   "metadata": {},
   "outputs": [
    {
     "name": "stdout",
     "output_type": "stream",
     "text": [
      "GENDER                   0\n",
      "AGE                      0\n",
      "SMOKING                  0\n",
      "YELLOW_FINGERS           0\n",
      "ANXIETY                  0\n",
      "PEER_PRESSURE            0\n",
      "CHRONIC_DISEASE          0\n",
      "FATIGUE                  0\n",
      "ALLERGY                  0\n",
      "WHEEZING                 0\n",
      "ALCOHOL_CONSUMING        0\n",
      "COUGHING                 0\n",
      "SHORTNESS_OF_BREATH      0\n",
      "SWALLOWING_DIFFICULTY    0\n",
      "CHEST_PAIN               0\n",
      "LUNG_CANCER              0\n",
      "dtype: int64\n"
     ]
    }
   ],
   "source": [
    "# Load the CSV file into a DataFrame\n",
    "LCD = pd.read_csv('LCE.csv')\n",
    "\n",
    "# Check for missing values in each column\n",
    "missing_values = LCD.isnull().sum()\n",
    "print(missing_values)"
   ]
  },
  {
   "cell_type": "code",
   "execution_count": 4,
   "id": "ab72d181",
   "metadata": {},
   "outputs": [
    {
     "name": "stdout",
     "output_type": "stream",
     "text": [
      "<bound method NDFrame.head of       GENDER  AGE  SMOKING  YELLOW_FINGERS  ANXIETY  PEER_PRESSURE  \\\n",
      "0          1   65        1               1        1              0   \n",
      "1          0   55        1               0        0              1   \n",
      "2          0   78        0               0        1              1   \n",
      "3          1   60        0               1        1              1   \n",
      "4          0   80        1               1        0              1   \n",
      "...      ...  ...      ...             ...      ...            ...   \n",
      "2995       0   71        0               1        1              0   \n",
      "2996       0   75        1               0        1              1   \n",
      "2997       0   62        0               0        0              1   \n",
      "2998       1   30        1               1        0              0   \n",
      "2999       1   40        1               0        0              1   \n",
      "\n",
      "      CHRONIC_DISEASE  FATIGUE  ALLERGY  WHEEZING  ALCOHOL_CONSUMING  \\\n",
      "0                   0        1        0         0                  0   \n",
      "1                   1        0        0         0                  1   \n",
      "2                   1        0        1         0                  1   \n",
      "3                   0        1        0         1                  1   \n",
      "4                   1        0        1         0                  1   \n",
      "...               ...      ...      ...       ...                ...   \n",
      "2995                0        1        1         1                  1   \n",
      "2996                1        0        0         0                  0   \n",
      "2997                0        0        0         0                  1   \n",
      "2998                0        0        0         0                  0   \n",
      "2999                1        1        0         0                  0   \n",
      "\n",
      "      COUGHING  SHORTNESS_OF_BREATH  SWALLOWING_DIFFICULTY  CHEST_PAIN  \\\n",
      "0            0                    0                      0           1   \n",
      "1            1                    1                      0           0   \n",
      "2            1                    0                      1           1   \n",
      "3            0                    1                      0           0   \n",
      "4            1                    1                      1           0   \n",
      "...        ...                  ...                    ...         ...   \n",
      "2995         0                    1                      1           0   \n",
      "2996         1                    1                      0           1   \n",
      "2997         1                    0                      0           0   \n",
      "2998         1                    0                      1           0   \n",
      "2999         1                    1                      1           1   \n",
      "\n",
      "      LUNG_CANCER  \n",
      "0               0  \n",
      "1               0  \n",
      "2               1  \n",
      "3               1  \n",
      "4               0  \n",
      "...           ...  \n",
      "2995            0  \n",
      "2996            0  \n",
      "2997            1  \n",
      "2998            1  \n",
      "2999            1  \n",
      "\n",
      "[3000 rows x 16 columns]>\n"
     ]
    }
   ],
   "source": [
    "# Convert 'Male' to 1 and 'Female' to 0\n",
    "LCD['GENDER'] = LCD['GENDER'].replace({'Male': 1, 'Female': 0})\n",
    "print(LCD.head)"
   ]
  },
  {
   "cell_type": "code",
   "execution_count": 5,
   "id": "a383c563-6431-449d-ac8a-3c82de9843e5",
   "metadata": {},
   "outputs": [
    {
     "name": "stdout",
     "output_type": "stream",
     "text": [
      "(2400, 14) (600, 14) (2400,) (600,)\n",
      "      GENDER  AGE  SMOKING  YELLOW_FINGERS  ANXIETY  PEER_PRESSURE  \\\n",
      "0          1   65        1               1        1              0   \n",
      "1          0   55        1               0        0              1   \n",
      "2          0   78        0               0        1              1   \n",
      "3          1   60        0               1        1              1   \n",
      "4          0   80        1               1        0              1   \n",
      "...      ...  ...      ...             ...      ...            ...   \n",
      "2995       0   71        0               1        1              0   \n",
      "2996       0   75        1               0        1              1   \n",
      "2997       0   62        0               0        0              1   \n",
      "2998       1   30        1               1        0              0   \n",
      "2999       1   40        1               0        0              1   \n",
      "\n",
      "      CHRONIC_DISEASE  FATIGUE  ALLERGY  WHEEZING  ALCOHOL_CONSUMING  \\\n",
      "0                   0        1        0         0                  0   \n",
      "1                   1        0        0         0                  1   \n",
      "2                   1        0        1         0                  1   \n",
      "3                   0        1        0         1                  1   \n",
      "4                   1        0        1         0                  1   \n",
      "...               ...      ...      ...       ...                ...   \n",
      "2995                0        1        1         1                  1   \n",
      "2996                1        0        0         0                  0   \n",
      "2997                0        0        0         0                  1   \n",
      "2998                0        0        0         0                  0   \n",
      "2999                1        1        0         0                  0   \n",
      "\n",
      "      COUGHING  SHORTNESS_OF_BREATH  SWALLOWING_DIFFICULTY  \n",
      "0            0                    0                      0  \n",
      "1            1                    1                      0  \n",
      "2            1                    0                      1  \n",
      "3            0                    1                      0  \n",
      "4            1                    1                      1  \n",
      "...        ...                  ...                    ...  \n",
      "2995         0                    1                      1  \n",
      "2996         1                    1                      0  \n",
      "2997         1                    0                      0  \n",
      "2998         1                    0                      1  \n",
      "2999         1                    1                      1  \n",
      "\n",
      "[3000 rows x 14 columns]\n"
     ]
    }
   ],
   "source": [
    "# X: Features, Y: Target ('LUNG_CANCER')\n",
    "\n",
    "# Select first 14 for features \n",
    "X = LCD.iloc[:,:14]  \n",
    "\n",
    "# Select just the 15th column (index 14) Lung Cancer 0/1\n",
    "Y = LCD.iloc[:, 15]  \n",
    "\n",
    "# Split data into training and testing sets (80% training, 20% testing)\n",
    "X_train, X_test, Y_train, Y_test = train_test_split(X, Y, test_size=0.2, random_state=123)\n",
    "\n",
    "# Print shapes of the resulting datasets to verify\n",
    "print(X_train.shape, X_test.shape, Y_train.shape, Y_test.shape)\n",
    "\n",
    "print(X)"
   ]
  },
  {
   "cell_type": "code",
   "execution_count": 6,
   "id": "cfbf8e2a",
   "metadata": {},
   "outputs": [],
   "source": [
    "# We need to normalize the X features because of age however we wont do that until we get to models where it really matters such as KNN and SVM "
   ]
  },
  {
   "cell_type": "code",
   "execution_count": 7,
   "id": "b5963fb2-8984-457c-950b-b896c8447774",
   "metadata": {},
   "outputs": [
    {
     "name": "stdout",
     "output_type": "stream",
     "text": [
      "Accuracy on Training Data: 55.88%\n"
     ]
    }
   ],
   "source": [
    "#First interation Random Forest\n",
    "\n",
    "# Training the Random Forest classifier\n",
    "RFC = RandomForestClassifier(n_estimators=12, max_depth=3, random_state=123)\n",
    "RFC.fit(X_train, Y_train)\n",
    "\n",
    "# Predict on the training data\n",
    "clf_train_pred = RFC.predict(X_train)\n",
    "\n",
    "# Calculate accuracy on the training data\n",
    "accuracy_train = accuracy_score(Y_train, clf_train_pred)\n",
    "print(f'Accuracy on Training Data: {accuracy_train * 100:.2f}%')\n",
    "\n",
    "#This is found to be our best model on the training data so far \n"
   ]
  },
  {
   "cell_type": "code",
   "execution_count": 8,
   "id": "66d29e98-32ec-4b82-96b2-a874d4caefcc",
   "metadata": {},
   "outputs": [
    {
     "data": {
      "image/png": "[encoded data removed]",
      "text/plain": [
       "<Figure size 1000x600 with 1 Axes>"
      ]
     },
     "metadata": {},
     "output_type": "display_data"
    }
   ],
   "source": [
    "#ploting the features importances to get a better understanding of the variables.\n",
    "importances = RFC.feature_importances_\n",
    "indices = np.argsort(importances)[::-1]  # Sort the features by importance\n",
    "\n",
    "plt.figure(figsize=(10, 6))\n",
    "plt.title(\"Feature Importances\")\n",
    "plt.bar(range(X.shape[1]), importances[indices], align=\"center\")\n",
    "plt.xticks(range(X.shape[1]), np.array(LCD.columns)[indices], rotation=90)\n",
    "plt.xlabel('Feature')\n",
    "plt.ylabel('Importance')\n",
    "plt.show()\n"
   ]
  },
  {
   "cell_type": "markdown",
   "id": "d6d7f751",
   "metadata": {},
   "source": [
    "We can see from this graphic that age is a highly important factor when it comes to predicting lung cancer. However is this variables overshadowing the others? Could this be overfitting ?"
   ]
  },
  {
   "cell_type": "code",
   "execution_count": 10,
   "id": "4ad496b3",
   "metadata": {},
   "outputs": [
    {
     "name": "stdout",
     "output_type": "stream",
     "text": [
      "Accuracy on Training Data: 54.00%\n"
     ]
    }
   ],
   "source": [
    "#Training the model on test data for Random Forest to see difference in scores. \n",
    "RFC = RandomForestClassifier(n_estimators=12, max_depth=3, random_state=123)\n",
    "RFC.fit(X_train, Y_train)\n",
    "\n",
    "# Predict on the training data\n",
    "RFC_pred = RFC.predict(X_test)\n",
    "\n",
    "# Calculate accuracy on the training data\n",
    "accuracy_train = accuracy_score(Y_test, RFC_pred)\n",
    "print(f'Accuracy on Training Data: {accuracy_train * 100:.2f}%')\n",
    "\n",
    "# We achieved a mere 54% accuracy however there isnt much difference in accuracy between the training and test sets. "
   ]
  },
  {
   "cell_type": "code",
   "execution_count": null,
   "id": "acd3c3cd",
   "metadata": {},
   "outputs": [
    {
     "data": {
      "text/plain": [
       "array([[0.03017858, 0.99589321, 0.03017858, ..., 0.03017858, 0.        ,\n",
       "        0.03017858],\n",
       "       [0.0153737 , 0.9992907 , 0.        , ..., 0.        , 0.        ,\n",
       "        0.0153737 ],\n",
       "       [0.        , 0.99904474, 0.01784008, ..., 0.01784008, 0.        ,\n",
       "        0.01784008],\n",
       "       ...,\n",
       "       [0.02929794, 0.99612985, 0.02929794, ..., 0.02929794, 0.        ,\n",
       "        0.        ],\n",
       "       [0.01997206, 0.99860293, 0.01997206, ..., 0.        , 0.01997206,\n",
       "        0.        ],\n",
       "       [0.0203658 , 0.99792402, 0.0203658 , ..., 0.0203658 , 0.        ,\n",
       "        0.        ]])"
      ]
     },
     "execution_count": 10,
     "metadata": {},
     "output_type": "execute_result"
    }
   ],
   "source": [
    "from sklearn import preprocessing\n",
    " #normalizing training data for svm/knn\n",
    "normalizer = preprocessing.Normalizer()\n",
    "NTX = normalizer.fit_transform(X_train)\n",
    "NTX"
   ]
  },
  {
   "cell_type": "code",
   "execution_count": null,
   "id": "49e92420-f8d3-4594-bea5-6428dfef667f",
   "metadata": {},
   "outputs": [
    {
     "name": "stdout",
     "output_type": "stream",
     "text": [
      "Accuracy: 52.00%\n"
     ]
    }
   ],
   "source": [
    "#SVM on test \n",
    "modelSVC = SVC(probability = True)\n",
    "modelSVC.fit(X_train, Y_train)\n",
    "SVM_pred = modelSVC.predict(X_test)\n",
    "\n",
    "accuracy = accuracy_score(Y_test, SVM_pred)\n",
    "print(f'Accuracy: {accuracy * 100:.2f}%')\n",
    "\n",
    "# With the standarized data we only achieve an increase of about 6-8%. \n",
    "# \n",
    "# Should we be normalizing all of x train or only age?"
   ]
  },
  {
   "cell_type": "code",
   "execution_count": null,
   "id": "17402baf-6403-44cc-9e47-ae3f61110922",
   "metadata": {},
   "outputs": [
    {
     "name": "stdout",
     "output_type": "stream",
     "text": [
      "Accuracy: 52.17%\n"
     ]
    }
   ],
   "source": [
    "#Decision Tree model on test\n",
    "\n",
    "dt_model = DecisionTreeClassifier(random_state=123)\n",
    "dt_model.fit(X_train, Y_train)\n",
    "\n",
    "# Make predictions on the test set\n",
    "dt_pred = dt_model.predict(X_test)\n",
    "\n",
    "# Calculate accuracy\n",
    "accuracy = accuracy_score(Y_test, dt_pred)\n",
    "print(f'Accuracy: {accuracy * 100:.2f}%')"
   ]
  },
  {
   "cell_type": "code",
   "execution_count": null,
   "id": "fd514d7f-314c-47fb-9b49-7e108dae703c",
   "metadata": {},
   "outputs": [
    {
     "name": "stdout",
     "output_type": "stream",
     "text": [
      "Accuracy: 63.88%\n"
     ]
    }
   ],
   "source": [
    "#Gradient Boosting on train \n",
    "\n",
    "# Initialize Gradient Boosting model\n",
    "GBmodel = GradientBoostingClassifier()\n",
    "GBmodel.fit(X_train, Y_train)\n",
    "\n",
    "# Make predictions on the test set\n",
    "GB_pred = GBmodel.predict(X_train)\n",
    "\n",
    "# Calculate accuracy\n",
    "accuracy = accuracy_score(Y_train, GB_pred)\n",
    "print(f'Accuracy: {accuracy * 100:.2f}%')\n",
    "\n"
   ]
  },
  {
   "cell_type": "code",
   "execution_count": null,
   "id": "bd94c362",
   "metadata": {},
   "outputs": [
    {
     "name": "stdout",
     "output_type": "stream",
     "text": [
      "Accuracy: 49.83%\n"
     ]
    }
   ],
   "source": [
    "#Gradient Boosting on test \n",
    "\n",
    "# Initialize Gradient Boosting model\n",
    "GBmodel = GradientBoostingClassifier()\n",
    "GBmodel.fit(X_train, Y_train)\n",
    "\n",
    "# Make predictions on the test set\n",
    "GB_pred = GBmodel.predict(X_test)\n",
    "\n",
    "# Calculate accuracy\n",
    "accuracy = accuracy_score(Y_test, GB_pred)\n",
    "print(f'Accuracy: {accuracy * 100:.2f}%')\n",
    "\n",
    "#Here we recieve a bad score of only 49% accuracy for the model."
   ]
  },
  {
   "cell_type": "code",
   "execution_count": null,
   "id": "c5565212-a16c-4b13-84bf-2b3a7b908522",
   "metadata": {},
   "outputs": [
    {
     "name": "stdout",
     "output_type": "stream",
     "text": [
      "Accuracy: 58.50%\n"
     ]
    }
   ],
   "source": [
    "#KNN Model on train \n",
    "knn = KNeighborsClassifier(n_neighbors=20)\n",
    "# Train the model\n",
    "knn.fit(X_train, Y_train)\n",
    "# Make predictions on the test data\n",
    "knn_pred = knn.predict(X_train)\n",
    "# Evaluate the model\n",
    "accuracy = accuracy_score(Y_train, knn_pred)\n",
    "print(f'Accuracy: {accuracy * 100:.2f}%')\n",
    "\n",
    "#Here we can see that on the training data the model performs pretty well with an accuracy of about 58%"
   ]
  },
  {
   "cell_type": "code",
   "execution_count": null,
   "id": "326f7758",
   "metadata": {},
   "outputs": [
    {
     "name": "stdout",
     "output_type": "stream",
     "text": [
      "Accuracy: 49.33%\n"
     ]
    }
   ],
   "source": [
    "#KNN Model on test \n",
    "knn = KNeighborsClassifier(n_neighbors=20)\n",
    "# Train the model\n",
    "knn.fit(X_train, Y_train)\n",
    "# Make predictions on the test data\n",
    "knn_pred = knn.predict(X_test)\n",
    "# Evaluate the model\n",
    "accuracy = accuracy_score(Y_test, knn_pred)\n",
    "print(f'Accuracy: {accuracy * 100:.2f}%')\n",
    "\n",
    "# Here we again see that the accuracy of the model drops between training and test sets meaning the models arent doing a good job classifying the variables. "
   ]
  },
  {
   "cell_type": "code",
   "execution_count": null,
   "id": "1a075dcc-72ba-4ba6-8c59-0b22a836344a",
   "metadata": {},
   "outputs": [
    {
     "name": "stdout",
     "output_type": "stream",
     "text": [
      "Accuracy: 53.50%\n"
     ]
    }
   ],
   "source": [
    "#Logistic Regression on training \n",
    "# Initialize and train the Logistic Regression model\n",
    "LR_model = LogisticRegression(max_iter=50, random_state=123)\n",
    "LR_model.fit(X_train, Y_train)\n",
    "# Make predictions on the training data\n",
    "LR_pred = LR_model.predict(X_train)\n",
    "# Evaluate the model\n",
    "accuracy = accuracy_score(Y_train, LR_pred)\n",
    "print(f'Accuracy: {accuracy * 100:.2f}%')\n",
    "\n",
    "#Here we can see that we got only a 53.5% accruacy on this model. This model wont change accuracy when i change the max interation parameters."
   ]
  },
  {
   "cell_type": "code",
   "execution_count": null,
   "id": "ff5a9c3e",
   "metadata": {},
   "outputs": [
    {
     "name": "stdout",
     "output_type": "stream",
     "text": [
      "Accuracy: 50.17%\n"
     ]
    }
   ],
   "source": [
    "#Logistic Regression on test \n",
    "# Initialize and train the Logistic Regression model\n",
    "LR_model = LogisticRegression(max_iter=50, random_state=123)\n",
    "LR_model.fit(X_train, Y_train)\n",
    "# Make predictions on the test data\n",
    "LR_pred = LR_model.predict(X_test)\n",
    "# Evaluate the model\n",
    "accuracy = accuracy_score(Y_test, LR_pred)\n",
    "print(f'Accuracy: {accuracy * 100:.2f}%')\n",
    "\n",
    "#here we again see that the models accuracy is dropping by a good 3-4 percent while also already being a bad accuracy rate. "
   ]
  },
  {
   "cell_type": "code",
   "execution_count": null,
   "id": "6415c591-9ce7-47da-9802-8bcee50b228a",
   "metadata": {},
   "outputs": [
    {
     "ename": "ValueError",
     "evalue": "Classification metrics can't handle a mix of binary and continuous targets",
     "output_type": "error",
     "traceback": [
      "\u001b[1;31m---------------------------------------------------------------------------\u001b[0m",
      "\u001b[1;31mValueError\u001b[0m                                Traceback (most recent call last)",
      "Cell \u001b[1;32mIn[13], line 10\u001b[0m\n\u001b[0;32m      7\u001b[0m \u001b[38;5;66;03m# Make predictions on the test data\u001b[39;00m\n\u001b[0;32m      8\u001b[0m RT_pred \u001b[38;5;241m=\u001b[39m RT_model\u001b[38;5;241m.\u001b[39mpredict(X_test)\n\u001b[1;32m---> 10\u001b[0m accuracy \u001b[38;5;241m=\u001b[39m \u001b[43maccuracy_score\u001b[49m\u001b[43m(\u001b[49m\u001b[43mY_test\u001b[49m\u001b[43m,\u001b[49m\u001b[43m \u001b[49m\u001b[43mRT_pred\u001b[49m\u001b[43m)\u001b[49m\n\u001b[0;32m     12\u001b[0m \u001b[38;5;66;03m#print(f'Accuracy: {accuracy * 100:.2f}%')\u001b[39;00m\n",
      "File \u001b[1;32mc:\\Users\\mja04\\AppData\\Local\\Programs\\Python\\Python311\\Lib\\site-packages\\sklearn\\utils\\_param_validation.py:213\u001b[0m, in \u001b[0;36mvalidate_params.<locals>.decorator.<locals>.wrapper\u001b[1;34m(*args, **kwargs)\u001b[0m\n\u001b[0;32m    207\u001b[0m \u001b[38;5;28;01mtry\u001b[39;00m:\n\u001b[0;32m    208\u001b[0m     \u001b[38;5;28;01mwith\u001b[39;00m config_context(\n\u001b[0;32m    209\u001b[0m         skip_parameter_validation\u001b[38;5;241m=\u001b[39m(\n\u001b[0;32m    210\u001b[0m             prefer_skip_nested_validation \u001b[38;5;129;01mor\u001b[39;00m global_skip_validation\n\u001b[0;32m    211\u001b[0m         )\n\u001b[0;32m    212\u001b[0m     ):\n\u001b[1;32m--> 213\u001b[0m         \u001b[38;5;28;01mreturn\u001b[39;00m \u001b[43mfunc\u001b[49m\u001b[43m(\u001b[49m\u001b[38;5;241;43m*\u001b[39;49m\u001b[43margs\u001b[49m\u001b[43m,\u001b[49m\u001b[43m \u001b[49m\u001b[38;5;241;43m*\u001b[39;49m\u001b[38;5;241;43m*\u001b[39;49m\u001b[43mkwargs\u001b[49m\u001b[43m)\u001b[49m\n\u001b[0;32m    214\u001b[0m \u001b[38;5;28;01mexcept\u001b[39;00m InvalidParameterError \u001b[38;5;28;01mas\u001b[39;00m e:\n\u001b[0;32m    215\u001b[0m     \u001b[38;5;66;03m# When the function is just a wrapper around an estimator, we allow\u001b[39;00m\n\u001b[0;32m    216\u001b[0m     \u001b[38;5;66;03m# the function to delegate validation to the estimator, but we replace\u001b[39;00m\n\u001b[0;32m    217\u001b[0m     \u001b[38;5;66;03m# the name of the estimator by the name of the function in the error\u001b[39;00m\n\u001b[0;32m    218\u001b[0m     \u001b[38;5;66;03m# message to avoid confusion.\u001b[39;00m\n\u001b[0;32m    219\u001b[0m     msg \u001b[38;5;241m=\u001b[39m re\u001b[38;5;241m.\u001b[39msub(\n\u001b[0;32m    220\u001b[0m         \u001b[38;5;124mr\u001b[39m\u001b[38;5;124m\"\u001b[39m\u001b[38;5;124mparameter of \u001b[39m\u001b[38;5;124m\\\u001b[39m\u001b[38;5;124mw+ must be\u001b[39m\u001b[38;5;124m\"\u001b[39m,\n\u001b[0;32m    221\u001b[0m         \u001b[38;5;124mf\u001b[39m\u001b[38;5;124m\"\u001b[39m\u001b[38;5;124mparameter of \u001b[39m\u001b[38;5;132;01m{\u001b[39;00mfunc\u001b[38;5;241m.\u001b[39m\u001b[38;5;18m__qualname__\u001b[39m\u001b[38;5;132;01m}\u001b[39;00m\u001b[38;5;124m must be\u001b[39m\u001b[38;5;124m\"\u001b[39m,\n\u001b[0;32m    222\u001b[0m         \u001b[38;5;28mstr\u001b[39m(e),\n\u001b[0;32m    223\u001b[0m     )\n",
      "File \u001b[1;32mc:\\Users\\mja04\\AppData\\Local\\Programs\\Python\\Python311\\Lib\\site-packages\\sklearn\\metrics\\_classification.py:213\u001b[0m, in \u001b[0;36maccuracy_score\u001b[1;34m(y_true, y_pred, normalize, sample_weight)\u001b[0m\n\u001b[0;32m    147\u001b[0m \u001b[38;5;250m\u001b[39m\u001b[38;5;124;03m\"\"\"Accuracy classification score.\u001b[39;00m\n\u001b[0;32m    148\u001b[0m \n\u001b[0;32m    149\u001b[0m \u001b[38;5;124;03mIn multilabel classification, this function computes subset accuracy:\u001b[39;00m\n\u001b[1;32m   (...)\u001b[0m\n\u001b[0;32m    209\u001b[0m \u001b[38;5;124;03m0.5\u001b[39;00m\n\u001b[0;32m    210\u001b[0m \u001b[38;5;124;03m\"\"\"\u001b[39;00m\n\u001b[0;32m    212\u001b[0m \u001b[38;5;66;03m# Compute accuracy for each possible representation\u001b[39;00m\n\u001b[1;32m--> 213\u001b[0m y_type, y_true, y_pred \u001b[38;5;241m=\u001b[39m \u001b[43m_check_targets\u001b[49m\u001b[43m(\u001b[49m\u001b[43my_true\u001b[49m\u001b[43m,\u001b[49m\u001b[43m \u001b[49m\u001b[43my_pred\u001b[49m\u001b[43m)\u001b[49m\n\u001b[0;32m    214\u001b[0m check_consistent_length(y_true, y_pred, sample_weight)\n\u001b[0;32m    215\u001b[0m \u001b[38;5;28;01mif\u001b[39;00m y_type\u001b[38;5;241m.\u001b[39mstartswith(\u001b[38;5;124m\"\u001b[39m\u001b[38;5;124mmultilabel\u001b[39m\u001b[38;5;124m\"\u001b[39m):\n",
      "File \u001b[1;32mc:\\Users\\mja04\\AppData\\Local\\Programs\\Python\\Python311\\Lib\\site-packages\\sklearn\\metrics\\_classification.py:94\u001b[0m, in \u001b[0;36m_check_targets\u001b[1;34m(y_true, y_pred)\u001b[0m\n\u001b[0;32m     91\u001b[0m     y_type \u001b[38;5;241m=\u001b[39m {\u001b[38;5;124m\"\u001b[39m\u001b[38;5;124mmulticlass\u001b[39m\u001b[38;5;124m\"\u001b[39m}\n\u001b[0;32m     93\u001b[0m \u001b[38;5;28;01mif\u001b[39;00m \u001b[38;5;28mlen\u001b[39m(y_type) \u001b[38;5;241m>\u001b[39m \u001b[38;5;241m1\u001b[39m:\n\u001b[1;32m---> 94\u001b[0m     \u001b[38;5;28;01mraise\u001b[39;00m \u001b[38;5;167;01mValueError\u001b[39;00m(\n\u001b[0;32m     95\u001b[0m         \u001b[38;5;124m\"\u001b[39m\u001b[38;5;124mClassification metrics can\u001b[39m\u001b[38;5;124m'\u001b[39m\u001b[38;5;124mt handle a mix of \u001b[39m\u001b[38;5;132;01m{0}\u001b[39;00m\u001b[38;5;124m and \u001b[39m\u001b[38;5;132;01m{1}\u001b[39;00m\u001b[38;5;124m targets\u001b[39m\u001b[38;5;124m\"\u001b[39m\u001b[38;5;241m.\u001b[39mformat(\n\u001b[0;32m     96\u001b[0m             type_true, type_pred\n\u001b[0;32m     97\u001b[0m         )\n\u001b[0;32m     98\u001b[0m     )\n\u001b[0;32m    100\u001b[0m \u001b[38;5;66;03m# We can't have more than one value on y_type => The set is no more needed\u001b[39;00m\n\u001b[0;32m    101\u001b[0m y_type \u001b[38;5;241m=\u001b[39m y_type\u001b[38;5;241m.\u001b[39mpop()\n",
      "\u001b[1;31mValueError\u001b[0m: Classification metrics can't handle a mix of binary and continuous targets"
     ]
    }
   ],
   "source": [
    "#currently this regression tree isnt working. \n",
    "#Regression Tree\n",
    "#Initialize the DecisionTreeRegressor (Regression Tree)\n",
    "#RT_model = DecisionTreeRegressor(random_state=42)\n",
    "#RT_model.fit(X_train, Y_train)\n",
    "\n",
    "# Make predictions on the test data\n",
    "#RT_pred = RT_model.predict(X_test)\n",
    "\n",
    "#accuracy = accuracy_score(Y_test, RT_pred)\n",
    "#print(f'Accuracy: {accuracy * 100:.2f}%')"
   ]
  },
  {
   "cell_type": "code",
   "execution_count": null,
   "id": "29d8f1bf-9498-4cdb-875a-ce0eb672825b",
   "metadata": {},
   "outputs": [
    {
     "name": "stdout",
     "output_type": "stream",
     "text": [
      "Correlation Matrix of Model Predictions:\n",
      "                    DecisionTree       KNN  LogisticRegression  \\\n",
      "DecisionTree            1.000000  0.086356           -0.011585   \n",
      "KNN                     0.086356  1.000000            0.188616   \n",
      "LogisticRegression     -0.011585  0.188616            1.000000   \n",
      "GradientBoosting        0.135951  0.328488            0.416928   \n",
      "SVM                     0.080920  0.161458            0.252759   \n",
      "RandomForest            0.144968  0.247271            0.487093   \n",
      "\n",
      "                    GradientBoosting       SVM  RandomForest  \n",
      "DecisionTree                0.135951  0.080920      0.144968  \n",
      "KNN                         0.328488  0.161458      0.247271  \n",
      "LogisticRegression          0.416928  0.252759      0.487093  \n",
      "GradientBoosting            1.000000  0.167012      0.476296  \n",
      "SVM                         0.167012  1.000000      0.351986  \n",
      "RandomForest                0.476296  0.351986      1.000000  \n"
     ]
    },
    {
     "data": {
      "image/png": "[encoded data removed]",
      "text/plain": [
       "<Figure size 800x600 with 2 Axes>"
      ]
     },
     "metadata": {},
     "output_type": "display_data"
    }
   ],
   "source": [
    "import seaborn as sns\n",
    "\n",
    "# Combine the predictions into a DataFrame for comparison\n",
    "predictions_df = pd.DataFrame({\n",
    "    'DecisionTree': dt_pred,\n",
    "    'KNN': knn_pred,\n",
    "    'LogisticRegression': LR_pred,\n",
    "    'GradientBoosting': GB_pred,\n",
    "    'SVM': SVM_pred,\n",
    "    'RandomForest': RFC_pred\n",
    "})\n",
    "\n",
    "# Compute the correlation matrix of the model predictions\n",
    "pred_corr_matrix = predictions_df.corr()\n",
    "\n",
    "# Display the correlation matrix\n",
    "print(\"Correlation Matrix of Model Predictions:\")\n",
    "print(pred_corr_matrix)\n",
    "\n",
    "# Visualize the correlation matrix using a heatmap\n",
    "plt.figure(figsize=(8, 6))\n",
    "sns.heatmap(pred_corr_matrix, annot=True, cmap='coolwarm', fmt='.2f', linewidths=0.5, cbar=True)\n",
    "plt.title('Model Prediction Correlation Matrix')\n",
    "plt.show()\n"
   ]
  },
  {
   "cell_type": "markdown",
   "id": "1dc02cb8",
   "metadata": {},
   "source": [
    "Include decision tree as it seems pretty independant \n",
    "Maybe include SVM \n",
    "AS well as KNN"
   ]
  },
  {
   "cell_type": "code",
   "execution_count": null,
   "id": "8fc60613",
   "metadata": {},
   "outputs": [
    {
     "name": "stdout",
     "output_type": "stream",
     "text": [
      "Ensemble Accuracy: 0.5133333333333333\n"
     ]
    }
   ],
   "source": [
    "\n",
    "from sklearn.ensemble import VotingClassifier\n",
    "\n",
    "# Define individual models\n",
    "from sklearn.tree import DecisionTreeClassifier\n",
    "from sklearn.svm import SVC\n",
    "from sklearn.ensemble import GradientBoostingClassifier, RandomForestClassifier\n",
    "from sklearn.linear_model import LogisticRegression\n",
    "from sklearn.neighbors import KNeighborsClassifier\n",
    "\n",
    "# Initialize models\n",
    "dt = DecisionTreeClassifier()\n",
    "svm = SVC(probability=True)  # Enable probabilities for soft voting\n",
    "knn = KNeighborsClassifier()\n",
    "gb = GradientBoostingClassifier()\n",
    "#('gb', gb)\n",
    "rf = RandomForestClassifier()\n",
    "#lr = LogisticRegression()\n",
    "#('gb', gb), , ('lr', lr), \n",
    "\n",
    "\n",
    "# Combine into a Voting Classifier\n",
    "voting_clf = VotingClassifier(\n",
    "    estimators=[('dt', dt), ('svm', svm), ('knn', knn),('rf', rf)],\n",
    "    voting='soft'  # Use 'hard' for majority voting\n",
    ")\n",
    "\n",
    "# Train the ensemble\n",
    "voting_clf.fit(X_train, Y_train)\n",
    "\n",
    "# Evaluate the ensemble\n",
    "print(\"Ensemble Accuracy:\", voting_clf.score(X_test, Y_test))\n",
    "\n",
    "#This model performed best with the following models decision tree , svm , knn, random forest. "
   ]
  },
  {
   "cell_type": "code",
   "execution_count": null,
   "id": "e41fa6b1-e353-41cd-9946-ea5ebf5862a1",
   "metadata": {},
   "outputs": [],
   "source": [
    "#Recursive Feature Elimination not fully completed need to adjust the code."
   ]
  },
  {
   "cell_type": "code",
   "execution_count": null,
   "id": "849c100e-7436-4af9-a9fe-1bb756f4803c",
   "metadata": {},
   "outputs": [
    {
     "name": "stdout",
     "output_type": "stream",
     "text": [
      "Indices of selected features: [ 0  4  5  9 10]\n"
     ]
    },
    {
     "ename": "InvalidIndexError",
     "evalue": "(slice(None, None, None), array([ 0,  4,  5,  9, 10], dtype=int64))",
     "output_type": "error",
     "traceback": [
      "\u001b[1;31m---------------------------------------------------------------------------\u001b[0m",
      "\u001b[1;31mTypeError\u001b[0m                                 Traceback (most recent call last)",
      "File \u001b[1;32mc:\\Users\\mja04\\AppData\\Local\\Programs\\Python\\Python311\\Lib\\site-packages\\pandas\\core\\indexes\\base.py:3802\u001b[0m, in \u001b[0;36mIndex.get_loc\u001b[1;34m(self, key)\u001b[0m\n\u001b[0;32m   3801\u001b[0m \u001b[38;5;28;01mtry\u001b[39;00m:\n\u001b[1;32m-> 3802\u001b[0m     \u001b[38;5;28;01mreturn\u001b[39;00m \u001b[38;5;28;43mself\u001b[39;49m\u001b[38;5;241;43m.\u001b[39;49m\u001b[43m_engine\u001b[49m\u001b[38;5;241;43m.\u001b[39;49m\u001b[43mget_loc\u001b[49m\u001b[43m(\u001b[49m\u001b[43mcasted_key\u001b[49m\u001b[43m)\u001b[49m\n\u001b[0;32m   3803\u001b[0m \u001b[38;5;28;01mexcept\u001b[39;00m \u001b[38;5;167;01mKeyError\u001b[39;00m \u001b[38;5;28;01mas\u001b[39;00m err:\n",
      "File \u001b[1;32mindex.pyx:153\u001b[0m, in \u001b[0;36mpandas._libs.index.IndexEngine.get_loc\u001b[1;34m()\u001b[0m\n",
      "File \u001b[1;32mindex.pyx:159\u001b[0m, in \u001b[0;36mpandas._libs.index.IndexEngine.get_loc\u001b[1;34m()\u001b[0m\n",
      "\u001b[1;31mTypeError\u001b[0m: '(slice(None, None, None), array([ 0,  4,  5,  9, 10], dtype=int64))' is an invalid key",
      "\nDuring handling of the above exception, another exception occurred:\n",
      "\u001b[1;31mInvalidIndexError\u001b[0m                         Traceback (most recent call last)",
      "Cell \u001b[1;32mIn[55], line 15\u001b[0m\n\u001b[0;32m     10\u001b[0m \u001b[38;5;28mprint\u001b[39m(\u001b[38;5;124m\"\u001b[39m\u001b[38;5;124mIndices of selected features:\u001b[39m\u001b[38;5;124m\"\u001b[39m, selected_features)\n\u001b[0;32m     14\u001b[0m \u001b[38;5;66;03m# Train the model using the selected features\u001b[39;00m\n\u001b[1;32m---> 15\u001b[0m X_train_selected \u001b[38;5;241m=\u001b[39m \u001b[43mX_train\u001b[49m\u001b[43m[\u001b[49m\u001b[43m:\u001b[49m\u001b[43m,\u001b[49m\u001b[43m \u001b[49m\u001b[43mselected_features\u001b[49m\u001b[43m]\u001b[49m\n\u001b[0;32m     16\u001b[0m X_test_selected \u001b[38;5;241m=\u001b[39m X_test[:, selected_features]\n\u001b[0;32m     18\u001b[0m \u001b[38;5;66;03m# Fit the model\u001b[39;00m\n",
      "File \u001b[1;32mc:\\Users\\mja04\\AppData\\Local\\Programs\\Python\\Python311\\Lib\\site-packages\\pandas\\core\\frame.py:4090\u001b[0m, in \u001b[0;36mDataFrame.__getitem__\u001b[1;34m(self, key)\u001b[0m\n\u001b[0;32m   4088\u001b[0m \u001b[38;5;28;01mif\u001b[39;00m \u001b[38;5;28mself\u001b[39m\u001b[38;5;241m.\u001b[39mcolumns\u001b[38;5;241m.\u001b[39mnlevels \u001b[38;5;241m>\u001b[39m \u001b[38;5;241m1\u001b[39m:\n\u001b[0;32m   4089\u001b[0m     \u001b[38;5;28;01mreturn\u001b[39;00m \u001b[38;5;28mself\u001b[39m\u001b[38;5;241m.\u001b[39m_getitem_multilevel(key)\n\u001b[1;32m-> 4090\u001b[0m indexer \u001b[38;5;241m=\u001b[39m \u001b[38;5;28;43mself\u001b[39;49m\u001b[38;5;241;43m.\u001b[39;49m\u001b[43mcolumns\u001b[49m\u001b[38;5;241;43m.\u001b[39;49m\u001b[43mget_loc\u001b[49m\u001b[43m(\u001b[49m\u001b[43mkey\u001b[49m\u001b[43m)\u001b[49m\n\u001b[0;32m   4091\u001b[0m \u001b[38;5;28;01mif\u001b[39;00m is_integer(indexer):\n\u001b[0;32m   4092\u001b[0m     indexer \u001b[38;5;241m=\u001b[39m [indexer]\n",
      "File \u001b[1;32mc:\\Users\\mja04\\AppData\\Local\\Programs\\Python\\Python311\\Lib\\site-packages\\pandas\\core\\indexes\\base.py:3814\u001b[0m, in \u001b[0;36mIndex.get_loc\u001b[1;34m(self, key)\u001b[0m\n\u001b[0;32m   3809\u001b[0m     \u001b[38;5;28;01mraise\u001b[39;00m \u001b[38;5;167;01mKeyError\u001b[39;00m(key) \u001b[38;5;28;01mfrom\u001b[39;00m \u001b[38;5;21;01merr\u001b[39;00m\n\u001b[0;32m   3810\u001b[0m \u001b[38;5;28;01mexcept\u001b[39;00m \u001b[38;5;167;01mTypeError\u001b[39;00m:\n\u001b[0;32m   3811\u001b[0m     \u001b[38;5;66;03m# If we have a listlike key, _check_indexing_error will raise\u001b[39;00m\n\u001b[0;32m   3812\u001b[0m     \u001b[38;5;66;03m#  InvalidIndexError. Otherwise we fall through and re-raise\u001b[39;00m\n\u001b[0;32m   3813\u001b[0m     \u001b[38;5;66;03m#  the TypeError.\u001b[39;00m\n\u001b[1;32m-> 3814\u001b[0m     \u001b[38;5;28;43mself\u001b[39;49m\u001b[38;5;241;43m.\u001b[39;49m\u001b[43m_check_indexing_error\u001b[49m\u001b[43m(\u001b[49m\u001b[43mkey\u001b[49m\u001b[43m)\u001b[49m\n\u001b[0;32m   3815\u001b[0m     \u001b[38;5;28;01mraise\u001b[39;00m\n",
      "File \u001b[1;32mc:\\Users\\mja04\\AppData\\Local\\Programs\\Python\\Python311\\Lib\\site-packages\\pandas\\core\\indexes\\base.py:6058\u001b[0m, in \u001b[0;36mIndex._check_indexing_error\u001b[1;34m(self, key)\u001b[0m\n\u001b[0;32m   6054\u001b[0m \u001b[38;5;28;01mdef\u001b[39;00m \u001b[38;5;21m_check_indexing_error\u001b[39m(\u001b[38;5;28mself\u001b[39m, key):\n\u001b[0;32m   6055\u001b[0m     \u001b[38;5;28;01mif\u001b[39;00m \u001b[38;5;129;01mnot\u001b[39;00m is_scalar(key):\n\u001b[0;32m   6056\u001b[0m         \u001b[38;5;66;03m# if key is not a scalar, directly raise an error (the code below\u001b[39;00m\n\u001b[0;32m   6057\u001b[0m         \u001b[38;5;66;03m# would convert to numpy arrays and raise later any way) - GH29926\u001b[39;00m\n\u001b[1;32m-> 6058\u001b[0m         \u001b[38;5;28;01mraise\u001b[39;00m InvalidIndexError(key)\n",
      "\u001b[1;31mInvalidIndexError\u001b[0m: (slice(None, None, None), array([ 0,  4,  5,  9, 10], dtype=int64))"
     ]
    }
   ],
   "source": [
    "#RFE on Logistic Regression\n",
    "\n",
    "# Create an RFE selector and fit to training data\n",
    "#rfe = RFE(estimator=LR_model, n_features_to_select=5)  # Keep 5 features\n",
    "#rfe.fit(X_train, Y_train)\n",
    "\n",
    "\n",
    "# Get the list of selected features\n",
    "#selected_features = np.where(rfe.support_)[0]\n",
    "#print(\"Indices of selected features:\", selected_features)\n",
    "\n",
    "\n",
    "\n",
    "# Train the model using the selected features\n",
    "#X_train_selected = X_train[:, selected_features]\n",
    "#X_test_selected = X_test[:, selected_features]\n",
    "\n",
    "# Fit the model\n",
    "#LR_model.fit(X_train_selected, Y_train)\n",
    "\n",
    "# Make predictions\n",
    "#LR_pred = LR_model.predict(X_test_selected)\n",
    "\n",
    "# Evaluate performance (accuracy for classification or MSE for regression)\n",
    "#accuracy = accuracy_score(Y_test, LR_pred)  # Or use other metrics for regression\n",
    "#print(\"Model Accuracy with selected features:\", accuracy)"
   ]
  },
  {
   "cell_type": "code",
   "execution_count": null,
   "id": "7e605038-2706-4f40-b68b-3eaa9ef9bc85",
   "metadata": {},
   "outputs": [
    {
     "name": "stdout",
     "output_type": "stream",
     "text": [
      "Indices of selected features: [ 1  5  8  9 13]\n"
     ]
    },
    {
     "ename": "InvalidIndexError",
     "evalue": "(slice(None, None, None), array([ 1,  5,  8,  9, 13], dtype=int64))",
     "output_type": "error",
     "traceback": [
      "\u001b[1;31m---------------------------------------------------------------------------\u001b[0m",
      "\u001b[1;31mTypeError\u001b[0m                                 Traceback (most recent call last)",
      "File \u001b[1;32mc:\\Users\\mja04\\AppData\\Local\\Programs\\Python\\Python311\\Lib\\site-packages\\pandas\\core\\indexes\\base.py:3802\u001b[0m, in \u001b[0;36mIndex.get_loc\u001b[1;34m(self, key)\u001b[0m\n\u001b[0;32m   3801\u001b[0m \u001b[38;5;28;01mtry\u001b[39;00m:\n\u001b[1;32m-> 3802\u001b[0m     \u001b[38;5;28;01mreturn\u001b[39;00m \u001b[38;5;28;43mself\u001b[39;49m\u001b[38;5;241;43m.\u001b[39;49m\u001b[43m_engine\u001b[49m\u001b[38;5;241;43m.\u001b[39;49m\u001b[43mget_loc\u001b[49m\u001b[43m(\u001b[49m\u001b[43mcasted_key\u001b[49m\u001b[43m)\u001b[49m\n\u001b[0;32m   3803\u001b[0m \u001b[38;5;28;01mexcept\u001b[39;00m \u001b[38;5;167;01mKeyError\u001b[39;00m \u001b[38;5;28;01mas\u001b[39;00m err:\n",
      "File \u001b[1;32mindex.pyx:153\u001b[0m, in \u001b[0;36mpandas._libs.index.IndexEngine.get_loc\u001b[1;34m()\u001b[0m\n",
      "File \u001b[1;32mindex.pyx:159\u001b[0m, in \u001b[0;36mpandas._libs.index.IndexEngine.get_loc\u001b[1;34m()\u001b[0m\n",
      "\u001b[1;31mTypeError\u001b[0m: '(slice(None, None, None), array([ 1,  5,  8,  9, 13], dtype=int64))' is an invalid key",
      "\nDuring handling of the above exception, another exception occurred:\n",
      "\u001b[1;31mInvalidIndexError\u001b[0m                         Traceback (most recent call last)",
      "Cell \u001b[1;32mIn[54], line 16\u001b[0m\n\u001b[0;32m     11\u001b[0m \u001b[38;5;28mprint\u001b[39m(\u001b[38;5;124m\"\u001b[39m\u001b[38;5;124mIndices of selected features:\u001b[39m\u001b[38;5;124m\"\u001b[39m, selected_features)\n\u001b[0;32m     15\u001b[0m \u001b[38;5;66;03m# Train the model using the selected features\u001b[39;00m\n\u001b[1;32m---> 16\u001b[0m X_train_selected \u001b[38;5;241m=\u001b[39m \u001b[43mX_train\u001b[49m\u001b[43m[\u001b[49m\u001b[43m:\u001b[49m\u001b[43m,\u001b[49m\u001b[43m \u001b[49m\u001b[43mselected_features\u001b[49m\u001b[43m]\u001b[49m\n\u001b[0;32m     17\u001b[0m X_test_selected \u001b[38;5;241m=\u001b[39m X_test[:, selected_features]\n\u001b[0;32m     19\u001b[0m \u001b[38;5;66;03m# Fit the model\u001b[39;00m\n",
      "File \u001b[1;32mc:\\Users\\mja04\\AppData\\Local\\Programs\\Python\\Python311\\Lib\\site-packages\\pandas\\core\\frame.py:4090\u001b[0m, in \u001b[0;36mDataFrame.__getitem__\u001b[1;34m(self, key)\u001b[0m\n\u001b[0;32m   4088\u001b[0m \u001b[38;5;28;01mif\u001b[39;00m \u001b[38;5;28mself\u001b[39m\u001b[38;5;241m.\u001b[39mcolumns\u001b[38;5;241m.\u001b[39mnlevels \u001b[38;5;241m>\u001b[39m \u001b[38;5;241m1\u001b[39m:\n\u001b[0;32m   4089\u001b[0m     \u001b[38;5;28;01mreturn\u001b[39;00m \u001b[38;5;28mself\u001b[39m\u001b[38;5;241m.\u001b[39m_getitem_multilevel(key)\n\u001b[1;32m-> 4090\u001b[0m indexer \u001b[38;5;241m=\u001b[39m \u001b[38;5;28;43mself\u001b[39;49m\u001b[38;5;241;43m.\u001b[39;49m\u001b[43mcolumns\u001b[49m\u001b[38;5;241;43m.\u001b[39;49m\u001b[43mget_loc\u001b[49m\u001b[43m(\u001b[49m\u001b[43mkey\u001b[49m\u001b[43m)\u001b[49m\n\u001b[0;32m   4091\u001b[0m \u001b[38;5;28;01mif\u001b[39;00m is_integer(indexer):\n\u001b[0;32m   4092\u001b[0m     indexer \u001b[38;5;241m=\u001b[39m [indexer]\n",
      "File \u001b[1;32mc:\\Users\\mja04\\AppData\\Local\\Programs\\Python\\Python311\\Lib\\site-packages\\pandas\\core\\indexes\\base.py:3814\u001b[0m, in \u001b[0;36mIndex.get_loc\u001b[1;34m(self, key)\u001b[0m\n\u001b[0;32m   3809\u001b[0m     \u001b[38;5;28;01mraise\u001b[39;00m \u001b[38;5;167;01mKeyError\u001b[39;00m(key) \u001b[38;5;28;01mfrom\u001b[39;00m \u001b[38;5;21;01merr\u001b[39;00m\n\u001b[0;32m   3810\u001b[0m \u001b[38;5;28;01mexcept\u001b[39;00m \u001b[38;5;167;01mTypeError\u001b[39;00m:\n\u001b[0;32m   3811\u001b[0m     \u001b[38;5;66;03m# If we have a listlike key, _check_indexing_error will raise\u001b[39;00m\n\u001b[0;32m   3812\u001b[0m     \u001b[38;5;66;03m#  InvalidIndexError. Otherwise we fall through and re-raise\u001b[39;00m\n\u001b[0;32m   3813\u001b[0m     \u001b[38;5;66;03m#  the TypeError.\u001b[39;00m\n\u001b[1;32m-> 3814\u001b[0m     \u001b[38;5;28;43mself\u001b[39;49m\u001b[38;5;241;43m.\u001b[39;49m\u001b[43m_check_indexing_error\u001b[49m\u001b[43m(\u001b[49m\u001b[43mkey\u001b[49m\u001b[43m)\u001b[49m\n\u001b[0;32m   3815\u001b[0m     \u001b[38;5;28;01mraise\u001b[39;00m\n",
      "File \u001b[1;32mc:\\Users\\mja04\\AppData\\Local\\Programs\\Python\\Python311\\Lib\\site-packages\\pandas\\core\\indexes\\base.py:6058\u001b[0m, in \u001b[0;36mIndex._check_indexing_error\u001b[1;34m(self, key)\u001b[0m\n\u001b[0;32m   6054\u001b[0m \u001b[38;5;28;01mdef\u001b[39;00m \u001b[38;5;21m_check_indexing_error\u001b[39m(\u001b[38;5;28mself\u001b[39m, key):\n\u001b[0;32m   6055\u001b[0m     \u001b[38;5;28;01mif\u001b[39;00m \u001b[38;5;129;01mnot\u001b[39;00m is_scalar(key):\n\u001b[0;32m   6056\u001b[0m         \u001b[38;5;66;03m# if key is not a scalar, directly raise an error (the code below\u001b[39;00m\n\u001b[0;32m   6057\u001b[0m         \u001b[38;5;66;03m# would convert to numpy arrays and raise later any way) - GH29926\u001b[39;00m\n\u001b[1;32m-> 6058\u001b[0m         \u001b[38;5;28;01mraise\u001b[39;00m InvalidIndexError(key)\n",
      "\u001b[1;31mInvalidIndexError\u001b[0m: (slice(None, None, None), array([ 1,  5,  8,  9, 13], dtype=int64))"
     ]
    }
   ],
   "source": [
    "#RFE on Random Forest\n",
    "#Needs rebuilding \n",
    "\n",
    "\n",
    "# Create an RFE selector and fit to training data\n",
    "#rfe = RFE(estimator=RFC, n_features_to_select=5)  # Keep 5 features\n",
    "#rfe.fit(X_train, Y_train)\n",
    "\n",
    "\n",
    "# Get the list of selected features\n",
    "#selected_features = np.where(rfe.support_)[0]\n",
    "#print(\"Indices of selected features:\", selected_features)\n",
    "\n",
    "\n",
    "\n",
    "# Train the model using the selected features\n",
    "#X_train_selected = X_train[:, selected_features]?\n",
    "#X_test_selected = X_test[:, selected_features]\n",
    "\n",
    "# Fit the model\n",
    "#RFC.fit(X_train_selected, Y_train)\n",
    "\n",
    "# Make predictions\n",
    "#clf_pred = RFC.predict(X_test_selected)\n",
    "\n",
    "# Evaluate performance (accuracy for classification or MSE for regression)\n",
    "#accuracy = accuracy_score(Y_test, clf_pred)  # Or use other metrics for regression\n",
    "#print(\"Model Accuracy with selected features:\", accuracy)"
   ]
  },
  {
   "cell_type": "code",
   "execution_count": null,
   "id": "485c0ec9-9aa4-40ce-a199-2cda06b0333c",
   "metadata": {},
   "outputs": [
    {
     "name": "stdout",
     "output_type": "stream",
     "text": [
      "Indices of selected features: [ 1  6 11 12 13]\n"
     ]
    },
    {
     "ename": "InvalidIndexError",
     "evalue": "(slice(None, None, None), array([ 1,  6, 11, 12, 13], dtype=int64))",
     "output_type": "error",
     "traceback": [
      "\u001b[1;31m---------------------------------------------------------------------------\u001b[0m",
      "\u001b[1;31mTypeError\u001b[0m                                 Traceback (most recent call last)",
      "File \u001b[1;32mc:\\Users\\mja04\\AppData\\Local\\Programs\\Python\\Python311\\Lib\\site-packages\\pandas\\core\\indexes\\base.py:3802\u001b[0m, in \u001b[0;36mIndex.get_loc\u001b[1;34m(self, key)\u001b[0m\n\u001b[0;32m   3801\u001b[0m \u001b[38;5;28;01mtry\u001b[39;00m:\n\u001b[1;32m-> 3802\u001b[0m     \u001b[38;5;28;01mreturn\u001b[39;00m \u001b[38;5;28;43mself\u001b[39;49m\u001b[38;5;241;43m.\u001b[39;49m\u001b[43m_engine\u001b[49m\u001b[38;5;241;43m.\u001b[39;49m\u001b[43mget_loc\u001b[49m\u001b[43m(\u001b[49m\u001b[43mcasted_key\u001b[49m\u001b[43m)\u001b[49m\n\u001b[0;32m   3803\u001b[0m \u001b[38;5;28;01mexcept\u001b[39;00m \u001b[38;5;167;01mKeyError\u001b[39;00m \u001b[38;5;28;01mas\u001b[39;00m err:\n",
      "File \u001b[1;32mindex.pyx:153\u001b[0m, in \u001b[0;36mpandas._libs.index.IndexEngine.get_loc\u001b[1;34m()\u001b[0m\n",
      "File \u001b[1;32mindex.pyx:159\u001b[0m, in \u001b[0;36mpandas._libs.index.IndexEngine.get_loc\u001b[1;34m()\u001b[0m\n",
      "\u001b[1;31mTypeError\u001b[0m: '(slice(None, None, None), array([ 1,  6, 11, 12, 13], dtype=int64))' is an invalid key",
      "\nDuring handling of the above exception, another exception occurred:\n",
      "\u001b[1;31mInvalidIndexError\u001b[0m                         Traceback (most recent call last)",
      "Cell \u001b[1;32mIn[53], line 16\u001b[0m\n\u001b[0;32m     11\u001b[0m \u001b[38;5;28mprint\u001b[39m(\u001b[38;5;124m\"\u001b[39m\u001b[38;5;124mIndices of selected features:\u001b[39m\u001b[38;5;124m\"\u001b[39m, selected_features)\n\u001b[0;32m     15\u001b[0m \u001b[38;5;66;03m# Train the model using the selected features\u001b[39;00m\n\u001b[1;32m---> 16\u001b[0m X_train_selected \u001b[38;5;241m=\u001b[39m \u001b[43mX_train\u001b[49m\u001b[43m[\u001b[49m\u001b[43m:\u001b[49m\u001b[43m,\u001b[49m\u001b[43m \u001b[49m\u001b[43mselected_features\u001b[49m\u001b[43m]\u001b[49m\n\u001b[0;32m     17\u001b[0m X_test_selected \u001b[38;5;241m=\u001b[39m X_test[:, selected_features]\n\u001b[0;32m     19\u001b[0m \u001b[38;5;66;03m# Fit the model\u001b[39;00m\n",
      "File \u001b[1;32mc:\\Users\\mja04\\AppData\\Local\\Programs\\Python\\Python311\\Lib\\site-packages\\pandas\\core\\frame.py:4090\u001b[0m, in \u001b[0;36mDataFrame.__getitem__\u001b[1;34m(self, key)\u001b[0m\n\u001b[0;32m   4088\u001b[0m \u001b[38;5;28;01mif\u001b[39;00m \u001b[38;5;28mself\u001b[39m\u001b[38;5;241m.\u001b[39mcolumns\u001b[38;5;241m.\u001b[39mnlevels \u001b[38;5;241m>\u001b[39m \u001b[38;5;241m1\u001b[39m:\n\u001b[0;32m   4089\u001b[0m     \u001b[38;5;28;01mreturn\u001b[39;00m \u001b[38;5;28mself\u001b[39m\u001b[38;5;241m.\u001b[39m_getitem_multilevel(key)\n\u001b[1;32m-> 4090\u001b[0m indexer \u001b[38;5;241m=\u001b[39m \u001b[38;5;28;43mself\u001b[39;49m\u001b[38;5;241;43m.\u001b[39;49m\u001b[43mcolumns\u001b[49m\u001b[38;5;241;43m.\u001b[39;49m\u001b[43mget_loc\u001b[49m\u001b[43m(\u001b[49m\u001b[43mkey\u001b[49m\u001b[43m)\u001b[49m\n\u001b[0;32m   4091\u001b[0m \u001b[38;5;28;01mif\u001b[39;00m is_integer(indexer):\n\u001b[0;32m   4092\u001b[0m     indexer \u001b[38;5;241m=\u001b[39m [indexer]\n",
      "File \u001b[1;32mc:\\Users\\mja04\\AppData\\Local\\Programs\\Python\\Python311\\Lib\\site-packages\\pandas\\core\\indexes\\base.py:3814\u001b[0m, in \u001b[0;36mIndex.get_loc\u001b[1;34m(self, key)\u001b[0m\n\u001b[0;32m   3809\u001b[0m     \u001b[38;5;28;01mraise\u001b[39;00m \u001b[38;5;167;01mKeyError\u001b[39;00m(key) \u001b[38;5;28;01mfrom\u001b[39;00m \u001b[38;5;21;01merr\u001b[39;00m\n\u001b[0;32m   3810\u001b[0m \u001b[38;5;28;01mexcept\u001b[39;00m \u001b[38;5;167;01mTypeError\u001b[39;00m:\n\u001b[0;32m   3811\u001b[0m     \u001b[38;5;66;03m# If we have a listlike key, _check_indexing_error will raise\u001b[39;00m\n\u001b[0;32m   3812\u001b[0m     \u001b[38;5;66;03m#  InvalidIndexError. Otherwise we fall through and re-raise\u001b[39;00m\n\u001b[0;32m   3813\u001b[0m     \u001b[38;5;66;03m#  the TypeError.\u001b[39;00m\n\u001b[1;32m-> 3814\u001b[0m     \u001b[38;5;28;43mself\u001b[39;49m\u001b[38;5;241;43m.\u001b[39;49m\u001b[43m_check_indexing_error\u001b[49m\u001b[43m(\u001b[49m\u001b[43mkey\u001b[49m\u001b[43m)\u001b[49m\n\u001b[0;32m   3815\u001b[0m     \u001b[38;5;28;01mraise\u001b[39;00m\n",
      "File \u001b[1;32mc:\\Users\\mja04\\AppData\\Local\\Programs\\Python\\Python311\\Lib\\site-packages\\pandas\\core\\indexes\\base.py:6058\u001b[0m, in \u001b[0;36mIndex._check_indexing_error\u001b[1;34m(self, key)\u001b[0m\n\u001b[0;32m   6054\u001b[0m \u001b[38;5;28;01mdef\u001b[39;00m \u001b[38;5;21m_check_indexing_error\u001b[39m(\u001b[38;5;28mself\u001b[39m, key):\n\u001b[0;32m   6055\u001b[0m     \u001b[38;5;28;01mif\u001b[39;00m \u001b[38;5;129;01mnot\u001b[39;00m is_scalar(key):\n\u001b[0;32m   6056\u001b[0m         \u001b[38;5;66;03m# if key is not a scalar, directly raise an error (the code below\u001b[39;00m\n\u001b[0;32m   6057\u001b[0m         \u001b[38;5;66;03m# would convert to numpy arrays and raise later any way) - GH29926\u001b[39;00m\n\u001b[1;32m-> 6058\u001b[0m         \u001b[38;5;28;01mraise\u001b[39;00m InvalidIndexError(key)\n",
      "\u001b[1;31mInvalidIndexError\u001b[0m: (slice(None, None, None), array([ 1,  6, 11, 12, 13], dtype=int64))"
     ]
    }
   ],
   "source": [
    "#RFE on Gradient Boosting\n",
    "\n",
    "\n",
    "# Create an RFE selector and fit to training data\n",
    "#rfe = RFE(estimator=GBmodel, n_features_to_select=5)  # Keep 5 features\n",
    "#rfe.fit(X_train, Y_train)\n",
    "\n",
    "\n",
    "# Get the list of selected features\n",
    "#selected_features = np.where(rfe.support_)[0]\n",
    "#print(\"Indices of selected features:\", selected_features)\n",
    "\n",
    "\n",
    "\n",
    "# Train the model using the selected features\n",
    "#X_train_selected = X_train[:, selected_features]\n",
    "#X_test_selected = X_test[:, selected_features]\n",
    "\n",
    "# Fit the model\n",
    "#GBmodel.fit(X_train_selected, Y_train)\n",
    "\n",
    "# Make predictions\n",
    "#GB_pred = GBmodel.predict(X_test_selected)\n",
    "\n",
    "# Evaluate performance (accuracy for classification or MSE for regression)\n",
    "#accuracy = accuracy_score(Y_test, GB_pred)  # Or use other metrics for regression\n",
    "#print(\"Model Accuracy with selected features:\", accuracy)"
   ]
  },
  {
   "cell_type": "code",
   "execution_count": null,
   "id": "2b58dfc5-047a-48da-81e6-efd123b87fdd",
   "metadata": {},
   "outputs": [],
   "source": [
    "# Bagging"
   ]
  },
  {
   "cell_type": "code",
   "execution_count": null,
   "id": "06de7056-e401-4507-8a27-95f361c71587",
   "metadata": {},
   "outputs": [
    {
     "name": "stdout",
     "output_type": "stream",
     "text": [
      "Accuracy of Bagging Classifier: 1.00\n"
     ]
    }
   ],
   "source": [
    "#Bagging on Decision Tree Model\n",
    "\n",
    "# Initialize Bagging with the base model for classification\n",
    "DT_bagging_model = BaggingClassifier(estimator=dt_model, n_estimators=50, random_state=42)\n",
    "\n",
    "# Train the Bagging model\n",
    "DT_bagging_model.fit(X_train, Y_train)\n",
    "\n",
    "# Predict on the test set\n",
    "DT_pred = DT_bagging_model.predict(X_test)\n",
    "\n",
    "# Evaluate the model\n",
    "accuracy = accuracy_score(Y_test, DT_pred)\n",
    "print(f\"Accuracy of Bagging Classifier: {accuracy:.2f}\")\n"
   ]
  },
  {
   "cell_type": "code",
   "execution_count": null,
   "id": "3f39b369-411d-4914-adc9-2fe64fbc63c8",
   "metadata": {},
   "outputs": [
    {
     "name": "stdout",
     "output_type": "stream",
     "text": [
      "Accuracy of Bagging Classifier: 0.49\n"
     ]
    }
   ],
   "source": [
    "#Bagging on KNN\n",
    "\n",
    "# Initialize Bagging with the base model for classification\n",
    "KNN_bagging_model = BaggingClassifier(estimator=knn, n_estimators=50, random_state=42)\n",
    "\n",
    "# Train the Bagging model\n",
    "KNN_bagging_model.fit(X_train, Y_train)\n",
    "\n",
    "# Predict on the test set\n",
    "KNN_pred = KNN_bagging_model.predict(X_test)\n",
    "\n",
    "# Evaluate the model\n",
    "accuracy = accuracy_score(Y_test, KNN_pred)\n",
    "print(f\"Accuracy of Bagging Classifier: {accuracy:.2f}\")"
   ]
  },
  {
   "cell_type": "code",
   "execution_count": null,
   "id": "d2519b37-be89-4fd8-bd86-d0b1d914d4b2",
   "metadata": {},
   "outputs": [
    {
     "name": "stdout",
     "output_type": "stream",
     "text": [
      "Accuracy of Bagging Classifier: 0.51\n"
     ]
    }
   ],
   "source": [
    "#Bagging on SVM\n",
    "\n",
    "\n",
    "# Initialize Bagging with the base model for classification\n",
    "SVM_bagging_model = BaggingClassifier(estimator=modelSVC, n_estimators=50, random_state=42)\n",
    "\n",
    "# Train the Bagging model\n",
    "SVM_bagging_model.fit(X_train, Y_train)\n",
    "\n",
    "# Predict on the test set\n",
    "SVM_pred = SVM_bagging_model.predict(X_test)\n",
    "\n",
    "# Evaluate the model\n",
    "accuracy = accuracy_score(Y_test, SVM_pred)\n",
    "print(f\"Accuracy of Bagging Classifier: {accuracy:.2f}\")"
   ]
  }
 ],
 "metadata": {
  "kernelspec": {
   "display_name": "Python 3",
   "language": "python",
   "name": "python3"
  },
  "language_info": {
   "codemirror_mode": {
    "name": "ipython",
    "version": 3
   },
   "file_extension": ".py",
   "mimetype": "text/x-python",
   "name": "python",
   "nbconvert_exporter": "python",
   "pygments_lexer": "ipython3",
   "version": "3.11.1"
  }
 },
 "nbformat": 4,
 "nbformat_minor": 5
}
