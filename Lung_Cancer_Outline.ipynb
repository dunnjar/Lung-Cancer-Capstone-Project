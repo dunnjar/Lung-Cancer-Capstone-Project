{
 "cells": [
  {
   "cell_type": "code",
   "execution_count": 19,
   "id": "ac31f291-11d1-425f-acc0-df7001a9609d",
   "metadata": {},
   "outputs": [],
   "source": [
    "import pandas as pd\n",
    "from sklearn.model_selection import train_test_split\n",
    "from sklearn.preprocessing import StandardScaler\n",
    "\n",
    "# Load the file into a DataFrame\n",
    "data = pd.read_csv('C:/Users/mja04/OneDrive/Data Science Capstone - MH/Lung Cancer.csv')"
   ]
  },
  {
   "cell_type": "code",
   "execution_count": 21,
   "id": "044a4ee9-eb97-4c75-9910-79916743d598",
   "metadata": {},
   "outputs": [
    {
     "name": "stdout",
     "output_type": "stream",
     "text": [
      "GENDER                   0\n",
      "AGE                      0\n",
      "SMOKING                  0\n",
      "YELLOW_FINGERS           0\n",
      "ANXIETY                  0\n",
      "PEER_PRESSURE            0\n",
      "CHRONIC_DISEASE          0\n",
      "FATIGUE                  0\n",
      "ALLERGY                  0\n",
      "WHEEZING                 0\n",
      "ALCOHOL_CONSUMING        0\n",
      "COUGHING                 0\n",
      "SHORTNESS_OF_BREATH      0\n",
      "SWALLOWING_DIFFICULTY    0\n",
      "CHEST_PAIN               0\n",
      "LUNG_CANCER              0\n",
      "dtype: int64\n"
     ]
    }
   ],
   "source": [
    "# Check for missing values in each column\n",
    "missing_values = data.isnull().sum()\n",
    "print(missing_values)\n",
    "\n",
    "# Convert 'Yes'/'No' binary columns to 1/0\n",
    "binary_columns = ['SMOKING', 'YELLOW_FINGERS', 'ANXIETY', 'PEER_PRESSURE', 'CHRONIC_DISEASE',\n",
    "                  'FATIGUE', 'ALLERGY', 'WHEEZING', 'ALCOHOL_CONSUMING', 'COUGHING',\n",
    "                  'SHORTNESS_OF_BREATH', 'SWALLOWING_DIFFICULTY', 'CHEST_PAIN', 'LUNG_CANCER']\n",
    "\n",
    "for column in binary_columns:\n",
    "    data[column] = data[column].map({'Yes': 1, 'No': 0})\n",
    "\n",
    "# Encode 'GENDER' column: 'M' -> 1, 'F' -> 0\n",
    "data['GENDER'] = data['GENDER'].map({'M': 1, 'F': 0})\n",
    "\n",
    "# Ensure 'LUNG_CANCER' column is correctly encoded (in case of errors in mapping)\n",
    "data['LUNG_CANCER'] = data['LUNG_CANCER'].fillna(0)\n",
    "\n",
    "# Standardize the 'AGE' column using StandardScaler\n",
    "scaler = StandardScaler()\n",
    "data['AGE'] = scaler.fit_transform(data[['AGE']])"
   ]
  },
  {
   "cell_type": "code",
   "execution_count": 23,
   "id": "a324309b-50dd-48da-be4b-b1f3c2d109e6",
   "metadata": {},
   "outputs": [
    {
     "name": "stdout",
     "output_type": "stream",
     "text": [
      "(2400, 15) (600, 15) (2400,) (600,)\n",
      "      GENDER       AGE  SMOKING  YELLOW_FINGERS  ANXIETY  PEER_PRESSURE  \\\n",
      "642        1  0.464022        1               0        1              1   \n",
      "700        0  0.939524        0               0        0              0   \n",
      "226        0  0.803666        0               1        1              0   \n",
      "1697       1  1.007452        1               0        0              1   \n",
      "1010       1 -1.573843        0               0        1              0   \n",
      "...      ...       ...      ...             ...      ...            ...   \n",
      "1638       0 -0.283195        0               1        0              0   \n",
      "1095       1 -0.351124        0               0        1              1   \n",
      "1130       1  0.871595        1               0        0              1   \n",
      "1294       1 -0.351124        1               1        0              1   \n",
      "860        1  1.550883        1               0        0              1   \n",
      "\n",
      "      CHRONIC_DISEASE  FATIGUE  ALLERGY  WHEEZING  ALCOHOL_CONSUMING  \\\n",
      "642                 0        1        0         0                  1   \n",
      "700                 0        0        1         0                  0   \n",
      "226                 0        0        1         1                  0   \n",
      "1697                0        1        0         0                  0   \n",
      "1010                1        0        1         1                  1   \n",
      "...               ...      ...      ...       ...                ...   \n",
      "1638                0        1        0         0                  1   \n",
      "1095                1        0        0         0                  0   \n",
      "1130                0        1        1         0                  0   \n",
      "1294                0        0        0         1                  0   \n",
      "860                 1        1        1         1                  0   \n",
      "\n",
      "      COUGHING  SHORTNESS_OF_BREATH  SWALLOWING_DIFFICULTY  CHEST_PAIN  \n",
      "642          1                    1                      1           1  \n",
      "700          0                    1                      0           0  \n",
      "226          0                    0                      0           1  \n",
      "1697         0                    1                      0           0  \n",
      "1010         0                    1                      1           0  \n",
      "...        ...                  ...                    ...         ...  \n",
      "1638         0                    1                      0           0  \n",
      "1095         1                    0                      0           1  \n",
      "1130         1                    0                      0           0  \n",
      "1294         0                    0                      0           0  \n",
      "860          0                    0                      0           0  \n",
      "\n",
      "[2400 rows x 15 columns]\n"
     ]
    }
   ],
   "source": [
    "# X: Features, Y: Target ('LUNG_CANCER')\n",
    "X = data.drop('LUNG_CANCER', axis=1)\n",
    "Y = data['LUNG_CANCER']\n",
    "\n",
    "# Split data into training and testing sets (80% training, 20% testing)\n",
    "X_train, X_test, Y_train, Y_test = train_test_split(X, Y, test_size=0.2, random_state=42)\n",
    "\n",
    "# Print shapes of the resulting datasets to verify\n",
    "print(X_train.shape, X_test.shape, Y_train.shape, Y_test.shape)\n",
    "\n",
    "print(X_train)"
   ]
  },
  {
   "cell_type": "code",
   "execution_count": null,
   "id": "883e3a96-04b8-4962-a474-3df8e8d31295",
   "metadata": {},
   "outputs": [],
   "source": []
  }
 ],
 "metadata": {
  "kernelspec": {
   "display_name": "Python 3 (ipykernel)",
   "language": "python",
   "name": "python3"
  },
  "language_info": {
   "codemirror_mode": {
    "name": "ipython",
    "version": 3
   },
   "file_extension": ".py",
   "mimetype": "text/x-python",
   "name": "python",
   "nbconvert_exporter": "python",
   "pygments_lexer": "ipython3",
   "version": "3.12.4"
  }
 },
 "nbformat": 4,
 "nbformat_minor": 5
}
